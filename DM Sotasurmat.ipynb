{
 "cells": [
  {
   "cell_type": "code",
   "execution_count": 1,
   "metadata": {
    "collapsed": false
   },
   "outputs": [
    {
     "name": "stdout",
     "output_type": "stream",
     "text": [
      "Populating the interactive namespace from numpy and matplotlib\n"
     ]
    }
   ],
   "source": [
    "%pylab inline\n",
    "\n",
    "import rdf_dm as r\n",
    "\n",
    "from rdflib import *\n",
    "\n",
    "from pandas import DataFrame, Series\n",
    "import pandas as pd"
   ]
  },
  {
   "cell_type": "code",
   "execution_count": 2,
   "metadata": {
    "collapsed": false
   },
   "outputs": [
    {
     "data": {
      "text/plain": [
       "<module 'rdf_dm' from '/home/mikko/PycharmProjects/rdf_dm/rdf_dm/__init__.py'>"
      ]
     },
     "execution_count": 2,
     "metadata": {},
     "output_type": "execute_result"
    }
   ],
   "source": [
    "import imp\n",
    "imp.reload(r.association)\n",
    "imp.reload(r)"
   ]
  },
  {
   "cell_type": "code",
   "execution_count": 3,
   "metadata": {
    "collapsed": false
   },
   "outputs": [
    {
     "name": "stdout",
     "output_type": "stream",
     "text": [
      "CPU times: user 2min 16s, sys: 4.54 s, total: 2min 21s\n",
      "Wall time: 3min 25s\n"
     ]
    }
   ],
   "source": [
    "%time surma = r.read_graph_from_sparql('http://ldf.fi/narc-menehtyneet1939-45/sparql')"
   ]
  },
  {
   "cell_type": "code",
   "execution_count": 4,
   "metadata": {
    "collapsed": false
   },
   "outputs": [],
   "source": [
    "fit, fru = r.freq_items_by_class(surma, URIRef('http://xmlns.com/foaf/0.1/Person'), minsup2=5, minconf=50, minlift=130)"
   ]
  },
  {
   "cell_type": "code",
   "execution_count": 5,
   "metadata": {
    "collapsed": false
   },
   "outputs": [
    {
     "data": {
      "text/plain": [
       "191"
      ]
     },
     "execution_count": 5,
     "metadata": {},
     "output_type": "execute_result"
    }
   ],
   "source": [
    "len(fit)"
   ]
  },
  {
   "cell_type": "code",
   "execution_count": 6,
   "metadata": {
    "collapsed": false,
    "scrolled": true
   },
   "outputs": [
    {
     "data": {
      "text/plain": [
       "([['sss:kansalaisuus', 'ss:kansalaisuus/Suomi'], ['rdf:type', 'foaf:Person']],\n",
       " 0.996146)"
      ]
     },
     "execution_count": 6,
     "metadata": {},
     "output_type": "execute_result"
    }
   ],
   "source": [
    "fit[0]"
   ]
  },
  {
   "cell_type": "code",
   "execution_count": 7,
   "metadata": {
    "collapsed": false
   },
   "outputs": [
    {
     "data": {
      "text/plain": [
       "1320"
      ]
     },
     "execution_count": 7,
     "metadata": {},
     "output_type": "execute_result"
    }
   ],
   "source": [
    "len(fru)"
   ]
  },
  {
   "cell_type": "code",
   "execution_count": 8,
   "metadata": {
    "collapsed": false
   },
   "outputs": [
    {
     "data": {
      "text/plain": [
       "{'antecedents': [['sss:siviilisaeaety', 'ss:siviilisaeaety/Naimaton'],\n",
       "  ['rdf:type', 'foaf:Person']],\n",
       " 'confidence': 0.992152,\n",
       " 'consequents': [['sss:lasten_lukumaeaerae', '0']],\n",
       " 'lift': 1.35484,\n",
       " 'support': 0.626098}"
      ]
     },
     "execution_count": 8,
     "metadata": {},
     "output_type": "execute_result"
    }
   ],
   "source": [
    "fru[0]"
   ]
  },
  {
   "cell_type": "code",
   "execution_count": 9,
   "metadata": {
    "collapsed": false
   },
   "outputs": [
    {
     "data": {
      "text/html": [
       "<div>\n",
       "<table border=\"1\" class=\"dataframe\">\n",
       "  <thead>\n",
       "    <tr style=\"text-align: right;\">\n",
       "      <th></th>\n",
       "      <th>confidence</th>\n",
       "      <th>lift</th>\n",
       "      <th>support</th>\n",
       "    </tr>\n",
       "  </thead>\n",
       "  <tbody>\n",
       "    <tr>\n",
       "      <th>count</th>\n",
       "      <td>1320.000000</td>\n",
       "      <td>1320.000000</td>\n",
       "      <td>1320.000000</td>\n",
       "    </tr>\n",
       "    <tr>\n",
       "      <th>mean</th>\n",
       "      <td>0.914991</td>\n",
       "      <td>3.410874</td>\n",
       "      <td>0.130316</td>\n",
       "    </tr>\n",
       "    <tr>\n",
       "      <th>std</th>\n",
       "      <td>0.085666</td>\n",
       "      <td>4.588170</td>\n",
       "      <td>0.137068</td>\n",
       "    </tr>\n",
       "    <tr>\n",
       "      <th>min</th>\n",
       "      <td>0.618637</td>\n",
       "      <td>1.333770</td>\n",
       "      <td>0.031057</td>\n",
       "    </tr>\n",
       "    <tr>\n",
       "      <th>25%</th>\n",
       "      <td>0.874184</td>\n",
       "      <td>1.357320</td>\n",
       "      <td>0.055673</td>\n",
       "    </tr>\n",
       "    <tr>\n",
       "      <th>50%</th>\n",
       "      <td>0.903206</td>\n",
       "      <td>1.384575</td>\n",
       "      <td>0.072537</td>\n",
       "    </tr>\n",
       "    <tr>\n",
       "      <th>75%</th>\n",
       "      <td>0.993767</td>\n",
       "      <td>1.428160</td>\n",
       "      <td>0.119731</td>\n",
       "    </tr>\n",
       "    <tr>\n",
       "      <th>max</th>\n",
       "      <td>0.994910</td>\n",
       "      <td>16.793300</td>\n",
       "      <td>0.626098</td>\n",
       "    </tr>\n",
       "  </tbody>\n",
       "</table>\n",
       "</div>"
      ],
      "text/plain": [
       "        confidence         lift      support\n",
       "count  1320.000000  1320.000000  1320.000000\n",
       "mean      0.914991     3.410874     0.130316\n",
       "std       0.085666     4.588170     0.137068\n",
       "min       0.618637     1.333770     0.031057\n",
       "25%       0.874184     1.357320     0.055673\n",
       "50%       0.903206     1.384575     0.072537\n",
       "75%       0.993767     1.428160     0.119731\n",
       "max       0.994910    16.793300     0.626098"
      ]
     },
     "execution_count": 9,
     "metadata": {},
     "output_type": "execute_result"
    }
   ],
   "source": [
    "rules = DataFrame(fru)\n",
    "rules.describe()"
   ]
  },
  {
   "cell_type": "code",
   "execution_count": 10,
   "metadata": {
    "collapsed": false
   },
   "outputs": [
    {
     "data": {
      "text/html": [
       "<div>\n",
       "<table border=\"1\" class=\"dataframe\">\n",
       "  <thead>\n",
       "    <tr style=\"text-align: right;\">\n",
       "      <th></th>\n",
       "      <th>antecedents</th>\n",
       "      <th>confidence</th>\n",
       "      <th>consequents</th>\n",
       "      <th>lift</th>\n",
       "      <th>support</th>\n",
       "    </tr>\n",
       "  </thead>\n",
       "  <tbody>\n",
       "    <tr>\n",
       "      <th>0</th>\n",
       "      <td>[[sss:siviilisaeaety, ss:siviilisaeaety/Naimaton], [rdf:type, foaf:Person]]</td>\n",
       "      <td>0.992152</td>\n",
       "      <td>[[sss:lasten_lukumaeaerae, 0]]</td>\n",
       "      <td>1.35484</td>\n",
       "      <td>0.626098</td>\n",
       "    </tr>\n",
       "    <tr>\n",
       "      <th>1</th>\n",
       "      <td>[[sss:lasten_lukumaeaerae, 0], [rdf:type, foaf:Person]]</td>\n",
       "      <td>0.854974</td>\n",
       "      <td>[[sss:siviilisaeaety, ss:siviilisaeaety/Naimaton]]</td>\n",
       "      <td>1.35484</td>\n",
       "      <td>0.626098</td>\n",
       "    </tr>\n",
       "    <tr>\n",
       "      <th>2</th>\n",
       "      <td>[[sss:siviilisaeaety, ss:siviilisaeaety/Naimaton], [sss:kansalaisuus, ss:kansalaisuus/Suomi], [rdf:type, foaf:Person]]</td>\n",
       "      <td>0.993915</td>\n",
       "      <td>[[sss:lasten_lukumaeaerae, 0]]</td>\n",
       "      <td>1.35725</td>\n",
       "      <td>0.624430</td>\n",
       "    </tr>\n",
       "    <tr>\n",
       "      <th>3</th>\n",
       "      <td>[[sss:lasten_lukumaeaerae, 0], [sss:kansalaisuus, ss:kansalaisuus/Suomi], [rdf:type, foaf:Person]]</td>\n",
       "      <td>0.854778</td>\n",
       "      <td>[[sss:siviilisaeaety, ss:siviilisaeaety/Naimaton]]</td>\n",
       "      <td>1.35453</td>\n",
       "      <td>0.624430</td>\n",
       "    </tr>\n",
       "    <tr>\n",
       "      <th>4</th>\n",
       "      <td>[[sss:siviilisaeaety, ss:siviilisaeaety/Naimaton], [sss:kansalaisuus, ss:kansalaisuus/Suomi]]</td>\n",
       "      <td>0.993915</td>\n",
       "      <td>[[sss:lasten_lukumaeaerae, 0]]</td>\n",
       "      <td>1.35725</td>\n",
       "      <td>0.624430</td>\n",
       "    </tr>\n",
       "  </tbody>\n",
       "</table>\n",
       "</div>"
      ],
      "text/plain": [
       "                                                                                                              antecedents  \\\n",
       "0                                             [[sss:siviilisaeaety, ss:siviilisaeaety/Naimaton], [rdf:type, foaf:Person]]   \n",
       "1                                                                 [[sss:lasten_lukumaeaerae, 0], [rdf:type, foaf:Person]]   \n",
       "2  [[sss:siviilisaeaety, ss:siviilisaeaety/Naimaton], [sss:kansalaisuus, ss:kansalaisuus/Suomi], [rdf:type, foaf:Person]]   \n",
       "3                      [[sss:lasten_lukumaeaerae, 0], [sss:kansalaisuus, ss:kansalaisuus/Suomi], [rdf:type, foaf:Person]]   \n",
       "4                           [[sss:siviilisaeaety, ss:siviilisaeaety/Naimaton], [sss:kansalaisuus, ss:kansalaisuus/Suomi]]   \n",
       "\n",
       "   confidence                                         consequents     lift  \\\n",
       "0    0.992152                      [[sss:lasten_lukumaeaerae, 0]]  1.35484   \n",
       "1    0.854974  [[sss:siviilisaeaety, ss:siviilisaeaety/Naimaton]]  1.35484   \n",
       "2    0.993915                      [[sss:lasten_lukumaeaerae, 0]]  1.35725   \n",
       "3    0.854778  [[sss:siviilisaeaety, ss:siviilisaeaety/Naimaton]]  1.35453   \n",
       "4    0.993915                      [[sss:lasten_lukumaeaerae, 0]]  1.35725   \n",
       "\n",
       "    support  \n",
       "0  0.626098  \n",
       "1  0.626098  \n",
       "2  0.624430  \n",
       "3  0.624430  \n",
       "4  0.624430  "
      ]
     },
     "execution_count": 10,
     "metadata": {},
     "output_type": "execute_result"
    }
   ],
   "source": [
    "pd.set_option('max_colwidth',300)\n",
    "rules.head()"
   ]
  },
  {
   "cell_type": "code",
   "execution_count": 11,
   "metadata": {
    "collapsed": false
   },
   "outputs": [
    {
     "data": {
      "text/plain": [
       "<matplotlib.axes._subplots.AxesSubplot at 0x7f3f575a9a58>"
      ]
     },
     "execution_count": 11,
     "metadata": {},
     "output_type": "execute_result"
    },
    {
     "data": {
      "image/png": "[encoded data removed]",
      "text/plain": [
       "<matplotlib.figure.Figure at 0x7f3f575a56a0>"
      ]
     },
     "metadata": {},
     "output_type": "display_data"
    }
   ],
   "source": [
    "rules.plot(figsize=(10, 6))"
   ]
  },
  {
   "cell_type": "code",
   "execution_count": 12,
   "metadata": {
    "collapsed": false
   },
   "outputs": [
    {
     "data": {
      "text/html": [
       "<div>\n",
       "<table border=\"1\" class=\"dataframe\">\n",
       "  <thead>\n",
       "    <tr style=\"text-align: right;\">\n",
       "      <th></th>\n",
       "      <th>antecedents</th>\n",
       "      <th>confidence</th>\n",
       "      <th>consequents</th>\n",
       "      <th>lift</th>\n",
       "      <th>support</th>\n",
       "    </tr>\n",
       "  </thead>\n",
       "  <tbody>\n",
       "    <tr>\n",
       "      <th>1314</th>\n",
       "      <td>[[sss:hautauskunta, ss:kunnat/k0005], [sss:sukupuoli, ss:sukupuoli/Mies], [sss:kansallisuus, ss:kansallisuus/Suomi], [rdf:type, foaf:Person]]</td>\n",
       "      <td>0.756883</td>\n",
       "      <td>[[sss:hautausmaa, ss:hautausmaat/0005_1]]</td>\n",
       "      <td>16.7933</td>\n",
       "      <td>0.044416</td>\n",
       "    </tr>\n",
       "    <tr>\n",
       "      <th>1315</th>\n",
       "      <td>[[sss:hautauskunta, ss:kunnat/k0005], [sss:sukupuoli, ss:sukupuoli/Mies], [sss:kansallisuus, ss:kansallisuus/Suomi], [sss:kansalaisuus, ss:kansalaisuus/Suomi], [rdf:type, foaf:Person]]</td>\n",
       "      <td>0.756883</td>\n",
       "      <td>[[sss:hautausmaa, ss:hautausmaat/0005_1]]</td>\n",
       "      <td>16.7933</td>\n",
       "      <td>0.044416</td>\n",
       "    </tr>\n",
       "    <tr>\n",
       "      <th>1316</th>\n",
       "      <td>[[sss:hautauskunta, ss:kunnat/k0005], [sss:sukupuoli, ss:sukupuoli/Mies], [sss:kansallisuus, ss:kansallisuus/Suomi], [sss:kansalaisuus, ss:kansalaisuus/Suomi]]</td>\n",
       "      <td>0.756883</td>\n",
       "      <td>[[sss:hautausmaa, ss:hautausmaat/0005_1]]</td>\n",
       "      <td>16.7933</td>\n",
       "      <td>0.044416</td>\n",
       "    </tr>\n",
       "    <tr>\n",
       "      <th>1317</th>\n",
       "      <td>[[sss:hautauskunta, ss:kunnat/k0005], [sss:sukupuoli, ss:sukupuoli/Mies], [sss:kansallisuus, ss:kansallisuus/Suomi]]</td>\n",
       "      <td>0.756883</td>\n",
       "      <td>[[sss:hautausmaa, ss:hautausmaat/0005_1]]</td>\n",
       "      <td>16.7933</td>\n",
       "      <td>0.044416</td>\n",
       "    </tr>\n",
       "    <tr>\n",
       "      <th>1312</th>\n",
       "      <td>[[sss:hautauskunta, ss:kunnat/k0005], [sss:sukupuoli, ss:sukupuoli/Mies], [sss:kansalaisuus, ss:kansalaisuus/Suomi], [rdf:type, foaf:Person]]</td>\n",
       "      <td>0.756475</td>\n",
       "      <td>[[sss:hautausmaa, ss:hautausmaat/0005_1]]</td>\n",
       "      <td>16.7842</td>\n",
       "      <td>0.044416</td>\n",
       "    </tr>\n",
       "  </tbody>\n",
       "</table>\n",
       "</div>"
      ],
      "text/plain": [
       "                                                                                                                                                                                   antecedents  \\\n",
       "1314                                             [[sss:hautauskunta, ss:kunnat/k0005], [sss:sukupuoli, ss:sukupuoli/Mies], [sss:kansallisuus, ss:kansallisuus/Suomi], [rdf:type, foaf:Person]]   \n",
       "1315  [[sss:hautauskunta, ss:kunnat/k0005], [sss:sukupuoli, ss:sukupuoli/Mies], [sss:kansallisuus, ss:kansallisuus/Suomi], [sss:kansalaisuus, ss:kansalaisuus/Suomi], [rdf:type, foaf:Person]]   \n",
       "1316                           [[sss:hautauskunta, ss:kunnat/k0005], [sss:sukupuoli, ss:sukupuoli/Mies], [sss:kansallisuus, ss:kansallisuus/Suomi], [sss:kansalaisuus, ss:kansalaisuus/Suomi]]   \n",
       "1317                                                                      [[sss:hautauskunta, ss:kunnat/k0005], [sss:sukupuoli, ss:sukupuoli/Mies], [sss:kansallisuus, ss:kansallisuus/Suomi]]   \n",
       "1312                                             [[sss:hautauskunta, ss:kunnat/k0005], [sss:sukupuoli, ss:sukupuoli/Mies], [sss:kansalaisuus, ss:kansalaisuus/Suomi], [rdf:type, foaf:Person]]   \n",
       "\n",
       "      confidence                                consequents     lift   support  \n",
       "1314    0.756883  [[sss:hautausmaa, ss:hautausmaat/0005_1]]  16.7933  0.044416  \n",
       "1315    0.756883  [[sss:hautausmaa, ss:hautausmaat/0005_1]]  16.7933  0.044416  \n",
       "1316    0.756883  [[sss:hautausmaa, ss:hautausmaat/0005_1]]  16.7933  0.044416  \n",
       "1317    0.756883  [[sss:hautausmaa, ss:hautausmaat/0005_1]]  16.7933  0.044416  \n",
       "1312    0.756475  [[sss:hautausmaa, ss:hautausmaat/0005_1]]  16.7842  0.044416  "
      ]
     },
     "execution_count": 12,
     "metadata": {},
     "output_type": "execute_result"
    }
   ],
   "source": [
    "rules.sort(columns=['lift', 'confidence'], ascending=False).head()"
   ]
  },
  {
   "cell_type": "code",
   "execution_count": 13,
   "metadata": {
    "collapsed": false
   },
   "outputs": [
    {
     "data": {
      "text/html": [
       "<div>\n",
       "<table border=\"1\" class=\"dataframe\">\n",
       "  <thead>\n",
       "    <tr style=\"text-align: right;\">\n",
       "      <th></th>\n",
       "      <th>antecedents</th>\n",
       "      <th>consequents</th>\n",
       "      <th>lift</th>\n",
       "      <th>confidence</th>\n",
       "      <th>support</th>\n",
       "    </tr>\n",
       "  </thead>\n",
       "  <tbody>\n",
       "    <tr>\n",
       "      <th>1317</th>\n",
       "      <td>[[sss:hautauskunta, ss:kunnat/k0005], [sss:sukupuoli, ss:sukupuoli/Mies], [sss:kansallisuus, ss:kansallisuus/Suomi]]</td>\n",
       "      <td>[[sss:hautausmaa, ss:hautausmaat/0005_1]]</td>\n",
       "      <td>16.7933</td>\n",
       "      <td>0.756883</td>\n",
       "      <td>0.044416</td>\n",
       "    </tr>\n",
       "    <tr>\n",
       "      <th>1316</th>\n",
       "      <td>[[sss:hautauskunta, ss:kunnat/k0005], [sss:sukupuoli, ss:sukupuoli/Mies], [sss:kansallisuus, ss:kansallisuus/Suomi], [sss:kansalaisuus, ss:kansalaisuus/Suomi]]</td>\n",
       "      <td>[[sss:hautausmaa, ss:hautausmaat/0005_1]]</td>\n",
       "      <td>16.7933</td>\n",
       "      <td>0.756883</td>\n",
       "      <td>0.044416</td>\n",
       "    </tr>\n",
       "    <tr>\n",
       "      <th>1315</th>\n",
       "      <td>[[sss:hautauskunta, ss:kunnat/k0005], [sss:sukupuoli, ss:sukupuoli/Mies], [sss:kansallisuus, ss:kansallisuus/Suomi], [sss:kansalaisuus, ss:kansalaisuus/Suomi], [rdf:type, foaf:Person]]</td>\n",
       "      <td>[[sss:hautausmaa, ss:hautausmaat/0005_1]]</td>\n",
       "      <td>16.7933</td>\n",
       "      <td>0.756883</td>\n",
       "      <td>0.044416</td>\n",
       "    </tr>\n",
       "    <tr>\n",
       "      <th>1314</th>\n",
       "      <td>[[sss:hautauskunta, ss:kunnat/k0005], [sss:sukupuoli, ss:sukupuoli/Mies], [sss:kansallisuus, ss:kansallisuus/Suomi], [rdf:type, foaf:Person]]</td>\n",
       "      <td>[[sss:hautausmaa, ss:hautausmaat/0005_1]]</td>\n",
       "      <td>16.7933</td>\n",
       "      <td>0.756883</td>\n",
       "      <td>0.044416</td>\n",
       "    </tr>\n",
       "    <tr>\n",
       "      <th>1313</th>\n",
       "      <td>[[sss:hautauskunta, ss:kunnat/k0005], [sss:sukupuoli, ss:sukupuoli/Mies], [sss:kansalaisuus, ss:kansalaisuus/Suomi]]</td>\n",
       "      <td>[[sss:hautausmaa, ss:hautausmaat/0005_1]]</td>\n",
       "      <td>16.7842</td>\n",
       "      <td>0.756475</td>\n",
       "      <td>0.044416</td>\n",
       "    </tr>\n",
       "  </tbody>\n",
       "</table>\n",
       "</div>"
      ],
      "text/plain": [
       "                                                                                                                                                                                   antecedents  \\\n",
       "1317                                                                      [[sss:hautauskunta, ss:kunnat/k0005], [sss:sukupuoli, ss:sukupuoli/Mies], [sss:kansallisuus, ss:kansallisuus/Suomi]]   \n",
       "1316                           [[sss:hautauskunta, ss:kunnat/k0005], [sss:sukupuoli, ss:sukupuoli/Mies], [sss:kansallisuus, ss:kansallisuus/Suomi], [sss:kansalaisuus, ss:kansalaisuus/Suomi]]   \n",
       "1315  [[sss:hautauskunta, ss:kunnat/k0005], [sss:sukupuoli, ss:sukupuoli/Mies], [sss:kansallisuus, ss:kansallisuus/Suomi], [sss:kansalaisuus, ss:kansalaisuus/Suomi], [rdf:type, foaf:Person]]   \n",
       "1314                                             [[sss:hautauskunta, ss:kunnat/k0005], [sss:sukupuoli, ss:sukupuoli/Mies], [sss:kansallisuus, ss:kansallisuus/Suomi], [rdf:type, foaf:Person]]   \n",
       "1313                                                                      [[sss:hautauskunta, ss:kunnat/k0005], [sss:sukupuoli, ss:sukupuoli/Mies], [sss:kansalaisuus, ss:kansalaisuus/Suomi]]   \n",
       "\n",
       "                                    consequents     lift  confidence   support  \n",
       "1317  [[sss:hautausmaa, ss:hautausmaat/0005_1]]  16.7933    0.756883  0.044416  \n",
       "1316  [[sss:hautausmaa, ss:hautausmaat/0005_1]]  16.7933    0.756883  0.044416  \n",
       "1315  [[sss:hautausmaa, ss:hautausmaat/0005_1]]  16.7933    0.756883  0.044416  \n",
       "1314  [[sss:hautausmaa, ss:hautausmaat/0005_1]]  16.7933    0.756883  0.044416  \n",
       "1313  [[sss:hautausmaa, ss:hautausmaat/0005_1]]  16.7842    0.756475  0.044416  "
      ]
     },
     "execution_count": 13,
     "metadata": {},
     "output_type": "execute_result"
    }
   ],
   "source": [
    "#print(rules.sort(columns=['lift', 'confidence'], ascending=False).head().values)\n",
    "#pd.set_option('display.width', 2000)\n",
    "#pd.set_option('display.expand_frame_repr', False)\n",
    "pd.set_option('max_colwidth',300)\n",
    "#rules.sort(columns=['lift', 'confidence'], ascending=False)[['antecedents', 'consequents', 'lift']].head()\n",
    "sorted_rules = rules.sort(columns=['lift'], ascending=False)[['antecedents', 'consequents', 'lift', 'confidence', 'support']]\n",
    "sorted_rules.head()"
   ]
  },
  {
   "cell_type": "code",
   "execution_count": 14,
   "metadata": {
    "collapsed": false
   },
   "outputs": [
    {
     "data": {
      "text/plain": [
       "[(rdflib.term.URIRef('http://ldf.fi/narc-menehtyneet1939-45/p254452'),\n",
       "  rdflib.term.URIRef('http://ldf.fi/narc-menehtyneet1939-45/hautausmaat/0408_3')),\n",
       " (rdflib.term.URIRef('http://ldf.fi/narc-menehtyneet1939-45/p526481'),\n",
       "  rdflib.term.URIRef('http://ldf.fi/narc-menehtyneet1939-45/hautausmaat/0681_1')),\n",
       " (rdflib.term.URIRef('http://ldf.fi/narc-menehtyneet1939-45/p501042'),\n",
       "  rdflib.term.URIRef('http://ldf.fi/narc-menehtyneet1939-45/hautausmaat/0245_1')),\n",
       " (rdflib.term.URIRef('http://ldf.fi/narc-menehtyneet1939-45/p15380'),\n",
       "  rdflib.term.URIRef('http://ldf.fi/narc-menehtyneet1939-45/hautausmaat/0801_1')),\n",
       " (rdflib.term.URIRef('http://ldf.fi/narc-menehtyneet1939-45/p534063'),\n",
       "  rdflib.term.URIRef('http://ldf.fi/narc-menehtyneet1939-45/hautausmaat/0737_1'))]"
      ]
     },
     "execution_count": 14,
     "metadata": {},
     "output_type": "execute_result"
    }
   ],
   "source": [
    "list(surma[:URIRef('http://ldf.fi/schema/narc-menehtyneet1939-45/hautausmaa'):])[:5]"
   ]
  },
  {
   "cell_type": "code",
   "execution_count": 15,
   "metadata": {
    "collapsed": false
   },
   "outputs": [],
   "source": [
    "#sorted_rules[sorted_rules['antecedents'].str.contains('kansa')].head()\n",
    "#sorted_rules[['rdf:type', 'foaf:Person'] in sorted_rules.antecedents]"
   ]
  },
  {
   "cell_type": "code",
   "execution_count": null,
   "metadata": {
    "collapsed": true
   },
   "outputs": [],
   "source": []
  }
 ],
 "metadata": {
  "kernelspec": {
   "display_name": "Python 3",
   "language": "python",
   "name": "python3"
  },
  "language_info": {
   "codemirror_mode": {
    "name": "ipython",
    "version": 3
   },
   "file_extension": ".py",
   "mimetype": "text/x-python",
   "name": "python",
   "nbconvert_exporter": "python",
   "pygments_lexer": "ipython3",
   "version": "3.4.0"
  }
 },
 "nbformat": 4,
 "nbformat_minor": 0
}
